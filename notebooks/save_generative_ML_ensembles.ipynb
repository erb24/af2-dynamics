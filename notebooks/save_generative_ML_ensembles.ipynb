{
 "cells": [
  {
   "cell_type": "code",
   "execution_count": 1,
   "id": "237db7bd",
   "metadata": {
    "ExecuteTime": {
     "end_time": "2025-03-28T11:44:31.490094Z",
     "start_time": "2025-03-28T11:44:31.260904Z"
    }
   },
   "outputs": [
    {
     "name": "stdout",
     "output_type": "stream",
     "text": [
      "/media/ebeyerle/seagate/af2-dynamics/notebooks\n",
      "/home/ebeyerle/micromamba/envs/bioemu-env/bin/python\n",
      "hemingway\n"
     ]
    },
    {
     "name": "stdout",
     "output_type": "stream",
     "text": [
      "/home/ebeyerle/micromamba/envs/bioemu-env/bin/python\n",
      "hemingway\n"
     ]
    }
   ],
   "source": [
    "!pwd\n",
    "!which python\n",
    "!hostname"
   ]
  },
  {
   "cell_type": "code",
   "execution_count": 2,
   "id": "c7298cb4",
   "metadata": {
    "ExecuteTime": {
     "end_time": "2025-03-28T11:44:33.163136Z",
     "start_time": "2025-03-28T11:44:31.798009Z"
    }
   },
   "outputs": [],
   "source": [
    "import numpy as np\n",
    "import matplotlib.pyplot as plt\n",
    "import mdtraj as md\n",
    "#import MDAnalysis as mda\n",
    "import deeptime\n",
    "from scipy.interpolate import RegularGridInterpolator"
   ]
  },
  {
   "cell_type": "code",
   "execution_count": 3,
   "id": "2d985bf5",
   "metadata": {
    "ExecuteTime": {
     "end_time": "2025-03-28T11:44:33.745177Z",
     "start_time": "2025-03-28T11:44:33.735496Z"
    }
   },
   "outputs": [],
   "source": [
    "def traj_from_xtc(XTC, TOP, chunk_size = 10000):\n",
    "\tlst = []\n",
    "\tfor chunk in md.iterload(XTC, chunk = chunk_size, top = TOP):\n",
    "\t\tprint(chunk)\n",
    "\t\tlst.append(chunk)\n",
    "\n",
    "\tfor i, dummy in enumerate(lst):\n",
    "\t\tprint(dummy)\n",
    "\t\tNFRS = dummy.n_frames\n",
    "\t\tNATOMS = dummy.n_atoms\n",
    "\t\tif i == 0:\n",
    "\t\t\ttraj =  np.reshape(dummy.xyz, (NFRS, 3*NATOMS))\n",
    "\t\telse:\n",
    "\t\t\ttraj = np.vstack([traj, np.reshape(dummy.xyz, (NFRS, 3*NATOMS))])\n",
    "\n",
    "\treturn traj #, md.join(lst)\n",
    "\n",
    "def xyz_from_xtc(XTC, TOP, chunk_size = 10000):\n",
    "\tlst = []\n",
    "\tfor chunk in md.iterload(XTC, chunk = chunk_size, top = TOP):\n",
    "\t\tprint(chunk)\n",
    "\t\tlst.append(chunk)\n",
    "\n",
    "\tfor i, dummy in enumerate(lst):\n",
    "\t\tprint(dummy)\n",
    "\t\tNFRS = dummy.n_frames\n",
    "\t\tNATOMS = dummy.n_atoms\n",
    "\t\tif i == 0:\n",
    "\t\t\ttraj =  dummy.xyz\n",
    "\t\telse:\n",
    "\t\t\ttraj = np.vstack([traj, dummy.xyz])\n",
    "\n",
    "\treturn traj #, md.join(lst)\n",
    "\n",
    "def traj_from_dcd(DCD, TOP, chunk_size = 10000):\n",
    "\tlst = []\n",
    "\tfor chunk in md.iterload(DCD, chunk = chunk_size, top = TOP):\n",
    "\t\tprint(chunk)\n",
    "\t\tlst.append(chunk)\n",
    "\n",
    "\tfor i, dummy in enumerate(lst):\n",
    "\t\tprint(dummy)\n",
    "\t\tNFRS = dummy.n_frames\n",
    "\t\tNATOMS = dummy.n_atoms\n",
    "\t\tif i == 0:\n",
    "\t\t\ttraj =  np.reshape(dummy.xyz, (NFRS, 3*NATOMS))\n",
    "\t\telse:\n",
    "\t\t\ttraj = np.vstack([traj, np.reshape(dummy.xyz, (NFRS, 3*NATOMS))])\n",
    "\n",
    "\treturn traj\n",
    "\n",
    "\n",
    "def traj_from_pdb(PDB, TOP, chunk_size = 10000):\n",
    "\tlst = []\n",
    "\tfor chunk in md.iterload(PDB, chunk = chunk_size, top = TOP):\n",
    "\t\tprint(chunk)\n",
    "\t\tlst.append(chunk)\n",
    "\n",
    "\tfor i, dummy in enumerate(lst):\n",
    "\t\tprint(dummy)\n",
    "\t\tNFRS = dummy.n_frames\n",
    "\t\tNATOMS = dummy.n_atoms\n",
    "\t\tif i == 0:\n",
    "\t\t\ttraj =  np.reshape(dummy.xyz, (NFRS, 3*NATOMS))\n",
    "\t\telse:\n",
    "\t\t\ttraj = np.vstack([traj, np.reshape(dummy.xyz, (NFRS, 3*NATOMS))])\n",
    "\n",
    "\treturn traj\n",
    "\n",
    "def ca_traj_from_xtc(XTC, TOP, chunk_size = 10000):\n",
    "\tlst = []\n",
    "\tfor chunk in md.iterload(XTC, chunk = chunk_size, top = TOP):\n",
    "\t\tprint(chunk)\n",
    "\t\tlst.append(chunk)\n",
    "\n",
    "\tfor i, dummy in enumerate(lst):\n",
    "\t\tprint(dummy)\n",
    "\t\tNFRS = dummy.n_frames\n",
    "\t\tNATOMS = dummy.n_atoms\n",
    "\t\tif i == 0:\n",
    "\t\t\ttraj =  np.reshape(dummy.xyz, (NFRS, 3*NATOMS))\n",
    "\t\telse:\n",
    "\t\t\ttraj = np.vstack([traj, np.reshape(dummy.xyz, (NFRS, 3*NATOMS))])\n",
    "\n",
    "\treturn traj #, md.join(lst)"
   ]
  },
  {
   "cell_type": "code",
   "execution_count": 4,
   "id": "a0f989d0",
   "metadata": {
    "ExecuteTime": {
     "end_time": "2025-03-28T11:44:34.043163Z",
     "start_time": "2025-03-28T11:44:34.032863Z"
    }
   },
   "outputs": [],
   "source": [
    "params = {'legend.fontsize': 25,\n",
    "          'figure.figsize': (8, 6),\n",
    "         'axes.labelsize': 30,\n",
    "         'axes.titlesize':25,\n",
    "         'xtick.labelsize':25,'ytick.labelsize':25,\n",
    "         'axes.linewidth':4,\n",
    "         'xtick.major.width':3,'ytick.major.width':3,\n",
    "         'xtick.minor.width':1,'ytick.minor.width':1,\n",
    "         'xtick.major.size':5,'ytick.major.size':5,\n",
    "         'xtick.minor.size':3,'ytick.minor.size':3,\n",
    "         'xtick.direction':'in','ytick.direction':'in'\n",
    "         }\n",
    "plt.rcParams.update(params)"
   ]
  },
  {
   "cell_type": "code",
   "execution_count": 5,
   "id": "947932c0",
   "metadata": {
    "ExecuteTime": {
     "end_time": "2025-03-28T11:44:34.691928Z",
     "start_time": "2025-03-28T11:44:34.687137Z"
    }
   },
   "outputs": [],
   "source": [
    "model_list = []\n",
    "mean_list = []\n",
    "xbins_list = []\n",
    "ybins_list = []\n",
    "fes_list = []"
   ]
  },
  {
   "cell_type": "code",
   "execution_count": 6,
   "id": "38459a6a",
   "metadata": {},
   "outputs": [],
   "source": [
    "tmp = md.load_xtc(f'../3ttp_8msa/aligned.xtc', top = f'../3ttp_CA.pdb').xyz"
   ]
  },
  {
   "cell_type": "code",
   "execution_count": 7,
   "id": "b243987d",
   "metadata": {
    "ExecuteTime": {
     "end_time": "2025-03-08T19:34:21.252538Z",
     "start_time": "2025-03-08T19:34:12.815612Z"
    }
   },
   "outputs": [],
   "source": [
    "seqs = ['3ttp', '2pc0', '1q9p']\n",
    "color_list = ['y', 'r', 'b']\n",
    "marker_list = ['*', 's', 'o']\n",
    "msa_list = [8, 16, 32, 64, 128, 256, 'full', 'af2-cluster', 'DiG', 'bioemu', 'MD']\n",
    "suffix = ['_0eafb', '_5d034', '_87f3d']\n",
    "ttp_fes_traj_list = []\n",
    "pc0_fes_traj_list = []\n",
    "q9p_fes_traj_list = []\n",
    "traj_dict = {}\n",
    "for i, seq in enumerate(seqs):\n",
    "    traj_dict[seq] = {}\n",
    "    if seq == '3ttp':\n",
    "        ref = md.load_pdb('../sims/openmm/3ttp/CA.pdb')\n",
    "    elif seq == '2pc0':\n",
    "        ref = md.load_pdb('../sims/openmm/2pc0/CA.pdb')\n",
    "    elif seq == '1q9p':\n",
    "        ref = md.load_pdb('../sims/openmm/1q9p/CA.pdb')\n",
    "    for counter, msa in enumerate(msa_list):\n",
    "        # import AF2 samples\n",
    "        if msa in [8, 16, 32, 64, 128, 256, 'full']:\n",
    "            if msa == 8:\n",
    "                traj_dict[seq]['AF2'] = {}\n",
    "            traj = md.load_xtc(f'../{seq}_%smsa/aligned.xtc' % msa, top = f'../{seq}_CA.pdb')\n",
    "            traj.superpose(ref)\n",
    "            traj = traj.xyz\n",
    "            traj = traj.reshape(traj.shape[0], traj.shape[1] * traj.shape[2])\n",
    "            traj_dict[seq]['AF2'][msa] = traj.T\n",
    "        elif msa == 'af2-cluster':\n",
    "            traj = md.load_xtc(f'../AF_Cluster-main/{seq}%s/aligned.xtc' % suffix[i], top = f'../{seq}_CA.pdb')\n",
    "            traj.superpose(ref)\n",
    "            traj = traj.xyz\n",
    "            traj = traj.reshape(traj.shape[0], traj.shape[1] * traj.shape[2])\n",
    "            traj_dict[seq]['AFc'] = traj.T\n",
    "        elif msa == 'DiG':\n",
    "            traj = md.load_xtc(f'../microsoft-Graphormer-5e62370/distributional_graphormer/protein/{seq}_output/aligned.xtc', top = f'../{seq}_CA.pdb')\n",
    "            traj.superpose(ref)\n",
    "            traj = traj.xyz\n",
    "            traj = traj.reshape(traj.shape[0], traj.shape[1] * traj.shape[2])\n",
    "            traj_dict[seq]['DiG'] = traj.T\n",
    "        elif msa == 'bioemu':\n",
    "            traj = md.load_xtc(f'../bioemu/{seq}/aligned.xtc', top = f'../{seq}_CA.pdb')\n",
    "            traj.superpose(ref)\n",
    "            traj = traj.xyz\n",
    "            traj = traj.reshape(traj.shape[0], traj.shape[1] * traj.shape[2])\n",
    "            traj_dict[seq]['BioEMU'] = traj.T\n",
    "        elif msa == 'MD':\n",
    "            traj = md.load_xtc(f'../{seq}_%s/aligned.xtc' % msa, top = f'../{seq}_CA.pdb')\n",
    "            traj.superpose(ref)\n",
    "            traj = traj.xyz\n",
    "            traj = traj.reshape(traj.shape[0], traj.shape[1] * traj.shape[2])\n",
    "            traj_dict[seq]['MDsamples'] = traj.T"
   ]
  },
  {
   "cell_type": "code",
   "execution_count": 8,
   "id": "946c0dfb",
   "metadata": {},
   "outputs": [],
   "source": [
    "import pickle\n",
    "with open('./generative_ML_ensembles_eric.pkl','wb') as f:\n",
    "    pickle.dump(traj_dict,f)"
   ]
  }
 ],
 "metadata": {
  "kernelspec": {
   "display_name": "Python 3 (ipykernel)",
   "language": "python",
   "name": "python3"
  },
  "language_info": {
   "codemirror_mode": {
    "name": "ipython",
    "version": 3
   },
   "file_extension": ".py",
   "mimetype": "text/x-python",
   "name": "python",
   "nbconvert_exporter": "python",
   "pygments_lexer": "ipython3",
   "version": "3.11.11"
  }
 },
 "nbformat": 4,
 "nbformat_minor": 5
}
